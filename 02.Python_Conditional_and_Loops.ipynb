{
 "cells": [
  {
   "cell_type": "markdown",
   "metadata": {},
   "source": [
    "# If else statements"
   ]
  },
  {
   "cell_type": "code",
   "execution_count": null,
   "metadata": {},
   "outputs": [],
   "source": [
    "condition=True or False\n",
    "\n",
    "if condition holds true:\n",
    "    do something\n",
    "else:\n",
    "    do another thing"
   ]
  },
  {
   "cell_type": "code",
   "execution_count": null,
   "metadata": {},
   "outputs": [],
   "source": [
    "condition1=True or False\n",
    "condition2=True or False\n",
    "\n",
    "if condition1 holds true:\n",
    "    do something\n",
    "elif condition2 holds true:\n",
    "    do another thing\n",
    "else:\n",
    "    do other thing"
   ]
  },
  {
   "cell_type": "code",
   "execution_count": 1,
   "metadata": {},
   "outputs": [
    {
     "name": "stdout",
     "output_type": "stream",
     "text": [
      "Owe someone`s umbrealla\n",
      "Roads are wet, drive slowly and carefully\n",
      "have a good one\n"
     ]
    }
   ],
   "source": [
    "is_weather_rainy=True\n",
    "\n",
    "if is_weather_rainy:\n",
    "    print(\"Owe someone`s umbrealla\")\n",
    "    print(\"Roads are wet, drive slowly and carefully\")\n",
    "print('have a good one')"
   ]
  },
  {
   "cell_type": "code",
   "execution_count": 2,
   "metadata": {},
   "outputs": [
    {
     "name": "stdout",
     "output_type": "stream",
     "text": [
      "have a good one\n"
     ]
    }
   ],
   "source": [
    "is_weather_rainy=False\n",
    "\n",
    "if is_weather_rainy:\n",
    "    print(\"Owe someone`s umbrealla\")\n",
    "    print(\"Roads are wet, drive slowly and carefully\")\n",
    "print('have a good one')"
   ]
  },
  {
   "cell_type": "code",
   "execution_count": 3,
   "metadata": {},
   "outputs": [
    {
     "name": "stdout",
     "output_type": "stream",
     "text": [
      "Roads are ok but drive carefully\n",
      "have a good one\n"
     ]
    }
   ],
   "source": [
    "is_weather_rainy=False\n",
    "\n",
    "if is_weather_rainy:\n",
    "    print(\"Owe someone`s umbrealla\") #pay attention to indentions\n",
    "    print(\"Drive slowly and very carefully\")\n",
    "else:\n",
    "    print(\"Roads are ok but drive carefully\")\n",
    "print('have a good one')"
   ]
  },
  {
   "cell_type": "code",
   "execution_count": 4,
   "metadata": {},
   "outputs": [
    {
     "name": "stdout",
     "output_type": "stream",
     "text": [
      "Owe someone`s umbrealla\n",
      "Drive slowly and very carefully\n",
      "have a good one\n"
     ]
    }
   ],
   "source": [
    "is_weather_rainy_or_snowy=True\n",
    "is_it_too_hot=False\n",
    "\n",
    "if is_weather_rainy_or_snowy:\n",
    "    print(\"Owe someone`s umbrealla\") #pay attention to indentions\n",
    "    print(\"Drive slowly and very carefully\")\n",
    "\n",
    "elif is_it_too_hot:\n",
    "    print(\"drink water and drive in the early morning or night\")\n",
    "    \n",
    "else:\n",
    "    print(\"Roads are ok but drive carefully\")\n",
    "print('have a good one')"
   ]
  },
  {
   "cell_type": "code",
   "execution_count": 5,
   "metadata": {},
   "outputs": [
    {
     "name": "stdout",
     "output_type": "stream",
     "text": [
      "drink water and drive in the early morning or night\n",
      "have a good one\n"
     ]
    }
   ],
   "source": [
    "is_weather_rainy_or_snowy=0\n",
    "is_it_too_hot=1\n",
    "\n",
    "if is_weather_rainy_or_snowy:\n",
    "    print(\"Owe someone`s umbrealla\") #pay attention to indentions\n",
    "    print(\"Drive slowly and very carefully\")\n",
    "\n",
    "elif is_it_too_hot:\n",
    "    print(\"drink water and drive in the early morning or night\")\n",
    "    \n",
    "else:\n",
    "    print(\"Roads are ok but drive carefully\")\n",
    "print('have a good one')"
   ]
  },
  {
   "cell_type": "code",
   "execution_count": 6,
   "metadata": {},
   "outputs": [
    {
     "name": "stdout",
     "output_type": "stream",
     "text": [
      "Roads are ok but drive carefully\n",
      "have a good one\n"
     ]
    }
   ],
   "source": [
    "is_weather_rainy_or_snowy=False\n",
    "is_it_too_hot=False\n",
    "\n",
    "if is_weather_rainy_or_snowy:\n",
    "    print(\"Owe someone`s umbrealla\") #pay attention to indentions\n",
    "    print(\"Drive slowly and very carefully\")\n",
    "\n",
    "elif is_it_too_hot:\n",
    "    print(\"drink water and drive in the early morning or night\")\n",
    "    \n",
    "else:\n",
    "    print(\"Roads are ok but drive carefully\")\n",
    "print('have a good one')"
   ]
  },
  {
   "cell_type": "markdown",
   "metadata": {},
   "source": [
    "Exercise\n",
    "* Price of a house in New Orleans is $2M. \n",
    "* If your credit score is excellent, you need to put down %5\n",
    "* Otherwise, you need to put down %10\n",
    "\n",
    "Write a code to compute down payment"
   ]
  },
  {
   "cell_type": "code",
   "execution_count": 8,
   "metadata": {},
   "outputs": [
    {
     "name": "stdout",
     "output_type": "stream",
     "text": [
      "down payment is 100000.0\n"
     ]
    }
   ],
   "source": [
    "is_credit_score_excellent=True\n",
    "\n",
    "if is_credit_score_excellent:\n",
    "    print('down payment is {}'.format(2000000*0.05))\n",
    "else:\n",
    "    print('down payment is {}'.format(2000000*0.1))\n"
   ]
  },
  {
   "cell_type": "code",
   "execution_count": 9,
   "metadata": {},
   "outputs": [
    {
     "name": "stdout",
     "output_type": "stream",
     "text": [
      "down payment is 200000.0\n"
     ]
    }
   ],
   "source": [
    "is_credit_score_excellent=False\n",
    "\n",
    "if is_credit_score_excellent:\n",
    "    print('down payment is {}'.format(2000000*0.05))\n",
    "else:\n",
    "    print('down payment is {}'.format(2000000*0.1))"
   ]
  },
  {
   "cell_type": "code",
   "execution_count": 12,
   "metadata": {},
   "outputs": [
    {
     "name": "stdout",
     "output_type": "stream",
     "text": [
      "Down payment is $ 200000.0\n"
     ]
    }
   ],
   "source": [
    "#we can code it more efficiently as follows\n",
    "price=2*10**6\n",
    "is_credit_score_excellent=False\n",
    "\n",
    "if is_credit_score_excellent:\n",
    "    down_payment=price*0.05\n",
    "else:\n",
    "    down_payment=price*0.1\n",
    "print(f'Down payment is $ {down_payment}') #f ' bla... {variable}'\n",
    "#or print('down payment is $ {}'.format(down_payment))  # 'bla...{}'.format(variable)"
   ]
  },
  {
   "cell_type": "markdown",
   "metadata": {},
   "source": [
    "# Logical operators"
   ]
  },
  {
   "cell_type": "code",
   "execution_count": 13,
   "metadata": {},
   "outputs": [
    {
     "name": "stdout",
     "output_type": "stream",
     "text": [
      "you can take a loan from a bank\n"
     ]
    }
   ],
   "source": [
    "#and\n",
    "good_income=True\n",
    "good_credit=True\n",
    "\n",
    "if good_credit and good_income:\n",
    "    print('you can take a loan from a bank')\n",
    "else:\n",
    "    print('you cannot take a loan from a bank')"
   ]
  },
  {
   "cell_type": "code",
   "execution_count": 14,
   "metadata": {},
   "outputs": [
    {
     "name": "stdout",
     "output_type": "stream",
     "text": [
      "you cannot take a loan from a bank\n"
     ]
    }
   ],
   "source": [
    "#and\n",
    "good_income=False\n",
    "good_credit=True\n",
    "\n",
    "if good_credit and good_income: # both of them should be true\n",
    "    print('you can take a loan from a bank')\n",
    "else:\n",
    "    print('you cannot take a loan from a bank')"
   ]
  },
  {
   "cell_type": "code",
   "execution_count": 15,
   "metadata": {},
   "outputs": [
    {
     "name": "stdout",
     "output_type": "stream",
     "text": [
      "you can take a loan from a bank\n"
     ]
    }
   ],
   "source": [
    "#or\n",
    "good_income=False\n",
    "good_credit=True\n",
    "\n",
    "if good_credit or good_income: # at least one of them should be true\n",
    "    print('you can take a loan from a bank')\n",
    "else:\n",
    "    print('you cannot take a loan from a bank')"
   ]
  },
  {
   "cell_type": "code",
   "execution_count": 16,
   "metadata": {},
   "outputs": [
    {
     "name": "stdout",
     "output_type": "stream",
     "text": [
      "you can take a loan from a bank\n"
     ]
    }
   ],
   "source": [
    "#or\n",
    "good_income=True\n",
    "good_credit=False\n",
    "\n",
    "if good_credit or good_income: # at least one of them should be true\n",
    "    print('you can take a loan from a bank')\n",
    "else:\n",
    "    print('you cannot take a loan from a bank')"
   ]
  },
  {
   "cell_type": "code",
   "execution_count": 17,
   "metadata": {},
   "outputs": [
    {
     "name": "stdout",
     "output_type": "stream",
     "text": [
      "you cannot take a loan from a bank\n"
     ]
    }
   ],
   "source": [
    "#or\n",
    "good_income=False\n",
    "good_credit=False\n",
    "\n",
    "if good_credit or good_income: # at least one of them should be true\n",
    "    print('you can take a loan from a bank')\n",
    "else:\n",
    "    print('you cannot take a loan from a bank')"
   ]
  },
  {
   "cell_type": "code",
   "execution_count": 18,
   "metadata": {},
   "outputs": [
    {
     "name": "stdout",
     "output_type": "stream",
     "text": [
      "you can take a loan from a bank\n"
     ]
    }
   ],
   "source": [
    "#and not\n",
    "\n",
    "good_income=True\n",
    "bad_credit=False\n",
    "\n",
    "if good_income and not bad_credit: \n",
    "    print('you can take a loan from a bank')\n",
    "else:\n",
    "    print('you cannot take a loan from a bank')"
   ]
  },
  {
   "cell_type": "code",
   "execution_count": 19,
   "metadata": {},
   "outputs": [
    {
     "name": "stdout",
     "output_type": "stream",
     "text": [
      "you cannot take a loan from a bank\n"
     ]
    }
   ],
   "source": [
    "#and not\n",
    "\n",
    "good_income=True\n",
    "bad_credit=True\n",
    "\n",
    "if good_income and not bad_credit: \n",
    "    print('you can take a loan from a bank')\n",
    "else:\n",
    "    print('you cannot take a loan from a bank')"
   ]
  },
  {
   "cell_type": "markdown",
   "metadata": {},
   "source": [
    "# Comparison operators"
   ]
  },
  {
   "cell_type": "code",
   "execution_count": null,
   "metadata": {},
   "outputs": [],
   "source": [
    "a > b (strictly greater than)\n",
    "a >= b (greater than or equal to)\n",
    "a < b (strictly less than)\n",
    "a <= b (less than or equal to)\n",
    "a == b (equals to)\n",
    "a != b (not equals to) "
   ]
  },
  {
   "cell_type": "code",
   "execution_count": 20,
   "metadata": {},
   "outputs": [
    {
     "name": "stdout",
     "output_type": "stream",
     "text": [
      "A\n"
     ]
    }
   ],
   "source": [
    "credit_score=720\n",
    "\n",
    "if credit_score >= 800:\n",
    "    rating='A+'\n",
    "elif credit_score>=700 and credit_score<800: #elif means else if\n",
    "    rating='A'\n",
    "else:\n",
    "    rating='B'\n",
    "print(rating)"
   ]
  },
  {
   "cell_type": "code",
   "execution_count": 21,
   "metadata": {},
   "outputs": [
    {
     "name": "stdout",
     "output_type": "stream",
     "text": [
      "A+\n"
     ]
    }
   ],
   "source": [
    "credit_score=800\n",
    "\n",
    "if credit_score >= 800:\n",
    "    rating='A+'\n",
    "elif credit_score>=700 and credit_score<800:\n",
    "    rating='A'\n",
    "else:\n",
    "    rating='B'\n",
    "print(rating)"
   ]
  },
  {
   "cell_type": "code",
   "execution_count": 22,
   "metadata": {},
   "outputs": [
    {
     "name": "stdout",
     "output_type": "stream",
     "text": [
      "B\n"
     ]
    }
   ],
   "source": [
    "credit_score=690 # note that = is assigment operator and == is equals to (comparison check) operator\n",
    "\n",
    "if credit_score >= 800:\n",
    "    rating='A+'\n",
    "elif credit_score>=700 and credit_score<800:\n",
    "    rating='A'\n",
    "else:\n",
    "    rating='B'\n",
    "print(rating)"
   ]
  },
  {
   "cell_type": "code",
   "execution_count": 23,
   "metadata": {},
   "outputs": [
    {
     "name": "stdout",
     "output_type": "stream",
     "text": [
      "write your name musa\n",
      "your name musa looks perfect\n"
     ]
    }
   ],
   "source": [
    "name=input('write your name ')\n",
    "\n",
    "if len(name)<3:\n",
    "    print(\"your name is too short\")\n",
    "    print(\"we need at least 3 characters\")\n",
    "elif len(name)>=50:\n",
    "    print('your name is too long')\n",
    "    print(\"we need at most 50 characters\")\n",
    "else:\n",
    "    print(f'your name {name} looks perfect')"
   ]
  },
  {
   "cell_type": "code",
   "execution_count": 24,
   "metadata": {},
   "outputs": [
    {
     "name": "stdout",
     "output_type": "stream",
     "text": [
      "your weight? 164\n",
      "Enter L for pounds and K for Kg l\n",
      "your weight is 74.292 kg\n"
     ]
    }
   ],
   "source": [
    "# do not forget input function always return a string in python\n",
    "weight=input('your weight? ')\n",
    "\n",
    "unit = input('Enter L for pounds and K for Kg ')\n",
    "\n",
    "if unit=='L' or unit=='l':\n",
    "    print(f'your weight is {int(weight)*0.453} kg')\n",
    "else:\n",
    "    print(f'your weight is {int(weight)/0.453} pound')"
   ]
  },
  {
   "cell_type": "code",
   "execution_count": 25,
   "metadata": {},
   "outputs": [
    {
     "name": "stdout",
     "output_type": "stream",
     "text": [
      "your weight? 73\n",
      "Enter L for pounds and K for Kg k\n",
      "your weight is 161.14790286975716 pound\n"
     ]
    }
   ],
   "source": [
    "# make it more efficient\n",
    "weight=int(input('your weight? '))\n",
    "\n",
    "unit = input('Enter L for pounds and K for Kg ')\n",
    "\n",
    "if unit.upper()=='L':\n",
    "    print(f'your weight is {weight*0.453} kg')\n",
    "else:\n",
    "    print(f'your weight is {weight/0.453} pound')"
   ]
  },
  {
   "cell_type": "markdown",
   "metadata": {},
   "source": [
    "# Loops for automated or repetetive tasks"
   ]
  },
  {
   "cell_type": "markdown",
   "metadata": {},
   "source": [
    "While Loop"
   ]
  },
  {
   "cell_type": "code",
   "execution_count": 33,
   "metadata": {},
   "outputs": [
    {
     "name": "stdout",
     "output_type": "stream",
     "text": [
      "1\n",
      "2\n",
      "3\n",
      "4\n",
      "5\n",
      "6\n",
      "Loop is done\n",
      "6 numbers are generated\n"
     ]
    }
   ],
   "source": [
    "i=1\n",
    "\n",
    "while i<=6:\n",
    "    print(i)\n",
    "    i+=1\n",
    "\n",
    "print('Loop is done')\n",
    "print(f'{i-1} numbers are generated') #why do we put i-1?"
   ]
  },
  {
   "cell_type": "code",
   "execution_count": 35,
   "metadata": {},
   "outputs": [
    {
     "name": "stdout",
     "output_type": "stream",
     "text": [
      "*\n",
      "**\n",
      "***\n",
      "****\n",
      "*****\n",
      "******\n",
      "*******\n",
      "********\n",
      "*********\n",
      "**********\n",
      "Loop is done\n",
      "10 line of stars are generated\n"
     ]
    }
   ],
   "source": [
    "#make it more fun \n",
    "i=1\n",
    "\n",
    "while i<=10:\n",
    "    print('*' * i)\n",
    "    i+=1\n",
    "\n",
    "print('Loop is done')\n",
    "print(f'{i-1} line of stars are generated') #why do we put i-1?"
   ]
  },
  {
   "cell_type": "code",
   "execution_count": 12,
   "metadata": {},
   "outputs": [
    {
     "name": "stdout",
     "output_type": "stream",
     "text": [
      "Guess the number btw 0-9?: 9\n",
      "you win!\n"
     ]
    }
   ],
   "source": [
    "#Guess game in a loop\n",
    "#we have three chances to guess the number 5\n",
    "number=5\n",
    "i=1\n",
    "\n",
    "while i<=3:\n",
    "    guess=int(input('Guess the number btw 0-9?: '))\n",
    "    if number==guess:\n",
    "        print('you win!')\n",
    "        i=4 # to jump out from the loop but wait we will see break command in the below\n",
    "    else:\n",
    "        i+=1\n",
    "        if i==4:\n",
    "            print('you lost')"
   ]
  },
  {
   "cell_type": "code",
   "execution_count": 20,
   "metadata": {},
   "outputs": [
    {
     "name": "stdout",
     "output_type": "stream",
     "text": [
      "Guess the number btw 0-9?: 1\n",
      "Guess the number btw 0-9?: 2\n",
      "Guess the number btw 0-9?: 5\n",
      "you won!\n"
     ]
    }
   ],
   "source": [
    "# Let us make the above code more efficient and readable\n",
    "# to jump out a loop we have a break command\n",
    "# we do not have to write so many embedded if else staments for this game like above\n",
    "# while loop has a else part as well\n",
    "\n",
    "secret_number=5\n",
    "count_limit=3\n",
    "count=1\n",
    "\n",
    "while count<=count_limit:\n",
    "    guess=int(input('Guess the number btw 0-9?: '))\n",
    "    count+=1\n",
    "    if secret_number==guess:\n",
    "        print('you won!')\n",
    "        break\n",
    "else:  #note how we use else, it is like a part of a while loop but it is optional, like if (else) statements\n",
    "    print('sorry, you lost')\n"
   ]
  },
  {
   "cell_type": "markdown",
   "metadata": {},
   "source": [
    "# Car Game"
   ]
  },
  {
   "cell_type": "markdown",
   "metadata": {},
   "source": [
    "We have a car game such that we can give four commands for the game as follows\n",
    "\n",
    "start: car will say car is started and ready to go\n",
    "    \n",
    "stop: car will say car is stopped \n",
    "    \n",
    "quit: the game will be over\n",
    "    \n",
    "help: car will show us three commands explainations\n",
    "    \n",
    "if we write any other commands like abc or brake etc car will say I do not understand\n",
    "\n",
    "Three commands are not case sensitive\n"
   ]
  },
  {
   "cell_type": "code",
   "execution_count": 3,
   "metadata": {},
   "outputs": [
    {
     "name": "stdout",
     "output_type": "stream",
     "text": [
      "enter the command start\n",
      "car is started and ready to go\n",
      "enter the command stop\n",
      "car is stopped\n",
      "enter the command help\n",
      " start: car will say car is started and ready to go\n",
      "    \n",
      "stop: car will say car is stopped \n",
      "    \n",
      "quit: the game will be over \n",
      "enter the command xxyz\n",
      "I do not understand\n",
      "enter the command quit\n",
      "I do not understand\n"
     ]
    }
   ],
   "source": [
    "command=''\n",
    "\n",
    "while command.lower()!='quit':\n",
    "    command=input('enter the command ')\n",
    "    if command.lower()=='start':\n",
    "        print('car is started and ready to go')\n",
    "    elif command.lower()=='stop':\n",
    "        print('car is stopped')\n",
    "    elif command.lower()=='help':\n",
    "        print(''' start: car will say car is started and ready to go\n",
    "    \n",
    "stop: car will say car is stopped \n",
    "    \n",
    "quit: the game will be over ''')\n",
    "    else:\n",
    "        print('I do not understand')"
   ]
  },
  {
   "cell_type": "code",
   "execution_count": 5,
   "metadata": {},
   "outputs": [
    {
     "name": "stdout",
     "output_type": "stream",
     "text": [
      "enter the command quit\n"
     ]
    }
   ],
   "source": [
    "#there is a tiny little problem at the code, when we say quit it still shows the I do not understand \n",
    "#second thing command.lower() is repating in every line, which is not good, we need to write clean, neat or dry code\n",
    "#third thing is there is an indention after help command before start, we can remove it\n",
    "\n",
    "#let`s fix those issues\n",
    "\n",
    "command=''\n",
    "\n",
    "while command!='quit':\n",
    "    command=input('enter the command ').lower()  #we can also use lower for input function\n",
    "    if command=='start':\n",
    "        print('car is started and ready to go')\n",
    "    elif command=='stop':\n",
    "        print('car is stopped')\n",
    "    elif command=='help':\n",
    "        print(''' \n",
    "start: car will say car is started and ready to go  \n",
    "    \n",
    "stop: car will say car is stopped \n",
    "    \n",
    "quit: the game will be over ''')\n",
    "    elif command=='quit':\n",
    "        break\n",
    "    else:\n",
    "        print('I do not understand')\n",
    "\n"
   ]
  },
  {
   "cell_type": "code",
   "execution_count": 9,
   "metadata": {},
   "outputs": [
    {
     "name": "stdout",
     "output_type": "stream",
     "text": [
      "enter the command quit\n"
     ]
    }
   ],
   "source": [
    "#it worked, let`s make it more efficient\n",
    "#do we really need to put command string as a condition for while loop?\n",
    "\n",
    "\n",
    "while True:  #this is like infite loop until we enter quit\n",
    "    command=input('enter the command ').lower()  #we can also use lower for input function\n",
    "    if command=='start':\n",
    "        print('car is started and ready to go')\n",
    "    elif command=='stop':\n",
    "        print('car is stopped')\n",
    "    elif command=='help':\n",
    "        print(''' \n",
    "start: car will say car is started and ready to go  \n",
    "    \n",
    "stop: car will say car is stopped \n",
    "    \n",
    "quit: the game will be over ''')\n",
    "    elif command=='quit':\n",
    "        break\n",
    "    else:\n",
    "        print('I do not understand')\n"
   ]
  },
  {
   "cell_type": "code",
   "execution_count": 3,
   "metadata": {},
   "outputs": [
    {
     "name": "stdout",
     "output_type": "stream",
     "text": [
      "enter the command stop\n",
      "car is already stopped\n",
      "enter the command start\n",
      "car is started and ready to go\n",
      "enter the command start\n",
      "car is already started\n",
      "enter the command quit\n"
     ]
    }
   ],
   "source": [
    "#Let`s revise the car example. \n",
    "#When we write start for the second time it will say car is already started. The same for stop.\n",
    "\n",
    "is_the_car_started=False\n",
    "\n",
    "while True:  \n",
    "    command=input('enter the command ').lower()  \n",
    "    \n",
    "    if command=='start':\n",
    "        if is_the_car_started:\n",
    "            print('car is already started')\n",
    "        else:\n",
    "            print('car is started and ready to go')\n",
    "            is_the_car_started=True\n",
    "    \n",
    "    elif command=='stop':\n",
    "        if not is_the_car_started:\n",
    "            print('car is already stopped')\n",
    "           \n",
    "        else:\n",
    "            print('car is stopped')\n",
    "            is_the_car_started=False\n",
    "    \n",
    "    elif command=='help':\n",
    "        print(''' \n",
    "start: car will say car is started and ready to go  \n",
    "    \n",
    "stop: car will say car is stopped \n",
    "    \n",
    "quit: the game will be over ''')\n",
    "    \n",
    "    elif command=='quit':\n",
    "        break\n",
    "    \n",
    "    else:\n",
    "        print('I do not understand')\n"
   ]
  },
  {
   "cell_type": "code",
   "execution_count": 6,
   "metadata": {},
   "outputs": [
    {
     "name": "stdout",
     "output_type": "stream",
     "text": [
      "Guess the number?: 1\n",
      "sorry, continue guessing\n",
      "Guess the number?: 2\n",
      "sorry, continue guessing\n",
      "Guess the number?: 3\n",
      "sorry, continue guessing\n",
      "Guess the number?: 4\n",
      "sorry, continue guessing\n",
      "Guess the number?: 5\n",
      "yeah! that is the number!\n"
     ]
    }
   ],
   "source": [
    "# Guess game with infinite number of chances\n",
    "secret_number=5\n",
    "\n",
    "while True:\n",
    "    guess=int(input('Guess the number?: '))\n",
    "    if secret_number==guess:\n",
    "        print('yeah! that is the number!')\n",
    "        break\n",
    "    else:  #note how we use else, it is like a part of a while loop but it is optional, like if (else) statements\n",
    "        print('sorry, continue guessing')\n",
    "    "
   ]
  },
  {
   "cell_type": "markdown",
   "metadata": {},
   "source": [
    "my son`s typing in my computer :) date: 13 Aug 2019 7:30pm\n",
    "\n",
    "burak;;;;;;;;utszkzzhhhhhlktyytrdeeyiiyoyi22ruy6u7kill.lllllllllllllllllll65677888812345678990"
   ]
  },
  {
   "cell_type": "markdown",
   "metadata": {},
   "source": [
    "For loop"
   ]
  },
  {
   "cell_type": "code",
   "execution_count": 13,
   "metadata": {},
   "outputs": [
    {
     "name": "stdout",
     "output_type": "stream",
     "text": [
      "P\n",
      "y\n",
      "t\n",
      "h\n",
      "o\n",
      "n\n"
     ]
    }
   ],
   "source": [
    "for item in 'Python': #characters in a string\n",
    "    print(item)"
   ]
  },
  {
   "cell_type": "code",
   "execution_count": 15,
   "metadata": {},
   "outputs": [
    {
     "name": "stdout",
     "output_type": "stream",
     "text": [
      "Musa\n",
      "Adam\n",
      "John\n",
      "Ahmed\n"
     ]
    }
   ],
   "source": [
    "for item in ['Musa', 'Adam', 'John', 'Ahmed']: #strings in a list\n",
    "    print(item)"
   ]
  },
  {
   "cell_type": "code",
   "execution_count": 16,
   "metadata": {},
   "outputs": [
    {
     "name": "stdout",
     "output_type": "stream",
     "text": [
      "3\n",
      "7\n",
      "9\n",
      "14\n"
     ]
    }
   ],
   "source": [
    "for item in [3, 7, 9, 14]: #numbers in a list\n",
    "    print(item)"
   ]
  },
  {
   "cell_type": "code",
   "execution_count": 17,
   "metadata": {},
   "outputs": [
    {
     "name": "stdout",
     "output_type": "stream",
     "text": [
      "3\n",
      "apple\n",
      "9\n",
      "orange\n"
     ]
    }
   ],
   "source": [
    "for item in [3,'apple', 9, 'orange']: #numbers in a list\n",
    "    print(item)"
   ]
  },
  {
   "cell_type": "code",
   "execution_count": 25,
   "metadata": {},
   "outputs": [
    {
     "name": "stdout",
     "output_type": "stream",
     "text": [
      "0\n",
      "1\n",
      "2\n",
      "3\n",
      "4\n",
      "5\n",
      "6\n",
      "7\n",
      "8\n",
      "9\n"
     ]
    }
   ],
   "source": [
    "for i in range(10): #numbers from default zero to nine, ten is excluded\n",
    "    print(i)"
   ]
  },
  {
   "cell_type": "code",
   "execution_count": 26,
   "metadata": {},
   "outputs": [
    {
     "name": "stdout",
     "output_type": "stream",
     "text": [
      "6\n",
      "7\n",
      "8\n",
      "9\n"
     ]
    }
   ],
   "source": [
    "#range() function\n",
    "for i in range(6,10): #numbers from six to nine, ten is excluded\n",
    "    print(i)"
   ]
  },
  {
   "cell_type": "code",
   "execution_count": 19,
   "metadata": {},
   "outputs": [
    {
     "name": "stdout",
     "output_type": "stream",
     "text": [
      "0\n",
      "3\n",
      "6\n",
      "9\n"
     ]
    }
   ],
   "source": [
    "for i in range(0,10,3): # increase loop counter/holder with 3 increments(like a step)\n",
    "    print(i)"
   ]
  },
  {
   "cell_type": "code",
   "execution_count": 24,
   "metadata": {},
   "outputs": [
    {
     "name": "stdout",
     "output_type": "stream",
     "text": [
      "True\n",
      "False\n"
     ]
    }
   ],
   "source": [
    "#side note\n",
    "print('i' in 'integer')  # note the difference between in a for loop and in a boolean checking operator\n",
    "print('i' in 'Integer')  "
   ]
  },
  {
   "cell_type": "code",
   "execution_count": 29,
   "metadata": {},
   "outputs": [
    {
     "name": "stdout",
     "output_type": "stream",
     "text": [
      "total cost is 22\n"
     ]
    }
   ],
   "source": [
    "prices=[5,9,7,1]\n",
    "sum=0\n",
    "\n",
    "for price in prices:\n",
    "    sum+=price\n",
    "print(f'total cost is {sum}')"
   ]
  },
  {
   "cell_type": "code",
   "execution_count": 30,
   "metadata": {},
   "outputs": [
    {
     "name": "stdout",
     "output_type": "stream",
     "text": [
      "total cost is 22\n"
     ]
    }
   ],
   "source": [
    "prices=[5,9,7,1]\n",
    "sum=0\n",
    "\n",
    "for something in prices:  #loop holder can be any name\n",
    "    sum+=something\n",
    "print(f'total cost is {sum}')"
   ]
  },
  {
   "cell_type": "markdown",
   "metadata": {},
   "source": [
    "Nested Loops"
   ]
  },
  {
   "cell_type": "code",
   "execution_count": 33,
   "metadata": {},
   "outputs": [
    {
     "name": "stdout",
     "output_type": "stream",
     "text": [
      "(0,0)\n",
      "(0,1)\n",
      "(0,2)\n",
      "(0,3)\n",
      "(1,0)\n",
      "(1,1)\n",
      "(1,2)\n",
      "(1,3)\n",
      "(2,0)\n",
      "(2,1)\n",
      "(2,2)\n",
      "(2,3)\n",
      "(3,0)\n",
      "(3,1)\n",
      "(3,2)\n",
      "(3,3)\n"
     ]
    }
   ],
   "source": [
    "#lets generate some number pairs or coordinates in the euclidean space\n",
    "# the idea is: for a given x in the outer loop, generate all the y values\n",
    "for x in range(4):\n",
    "    for y in range(4):\n",
    "        print(f'({x},{y})')\n",
    "        #or print(\"({},{})\".format(x,y))"
   ]
  },
  {
   "cell_type": "code",
   "execution_count": null,
   "metadata": {},
   "outputs": [],
   "source": [
    "# Challenge: generate the following shape with nested loops. do not use string multiplication\n",
    "xxxxx\n",
    "xx\n",
    "xxxxx\n",
    "xx\n",
    "xx"
   ]
  },
  {
   "cell_type": "code",
   "execution_count": 42,
   "metadata": {},
   "outputs": [
    {
     "name": "stdout",
     "output_type": "stream",
     "text": [
      "xxxxx\n",
      "xx\n",
      "xxxxx\n",
      "xx\n",
      "xx\n"
     ]
    }
   ],
   "source": [
    "#do not use this\n",
    "\n",
    "numbers=[5,2,5,2,2]\n",
    "\n",
    "for item in numbers:\n",
    "    print('x' * item)"
   ]
  },
  {
   "cell_type": "code",
   "execution_count": 44,
   "metadata": {},
   "outputs": [
    {
     "name": "stdout",
     "output_type": "stream",
     "text": [
      "xxxxx\n",
      "xx\n",
      "xxxxx\n",
      "xx\n",
      "xx\n"
     ]
    }
   ],
   "source": [
    "numbers=[5,2,5,2,2]\n",
    "\n",
    "for xcount in numbers:\n",
    "    output=''\n",
    "    for item in range(xcount):\n",
    "        output+='x'\n",
    "    print(output)"
   ]
  },
  {
   "cell_type": "code",
   "execution_count": null,
   "metadata": {},
   "outputs": [],
   "source": [
    "x\n",
    "x\n",
    "x\n",
    "x\n",
    "xxxxx"
   ]
  },
  {
   "cell_type": "code",
   "execution_count": 53,
   "metadata": {},
   "outputs": [
    {
     "name": "stdout",
     "output_type": "stream",
     "text": [
      "x\n",
      "x\n",
      "x\n",
      "x\n",
      "xxxxx\n"
     ]
    }
   ],
   "source": [
    "numbers=[1,1,1,1,5]\n",
    "\n",
    "for xcount in numbers:\n",
    "    output=''\n",
    "    for item in range(xcount):\n",
    "        output+='x'\n",
    "    print(output)"
   ]
  }
 ],
 "metadata": {
  "kernelspec": {
   "display_name": "Python 3",
   "language": "python",
   "name": "python3"
  },
  "language_info": {
   "codemirror_mode": {
    "name": "ipython",
    "version": 3
   },
   "file_extension": ".py",
   "mimetype": "text/x-python",
   "name": "python",
   "nbconvert_exporter": "python",
   "pygments_lexer": "ipython3",
   "version": "3.7.3"
  }
 },
 "nbformat": 4,
 "nbformat_minor": 2
}
