{
 "cells": [
  {
   "cell_type": "code",
   "execution_count": 6,
   "metadata": {},
   "outputs": [],
   "source": [
    "#we define functions to make our code more organizable, maintable reusable code chunks or blocks\n",
    "#def comes from definition, we define a function with def and function name and colon\n",
    "def greet_students():    \n",
    "    print(\"Hi Guys, Welcome to the Python Tutorial\")\n",
    "    print(\"I hope you like it\")\n",
    "    \n",
    "    \n",
    "#the best coding practice is we leave 2 line breaks after we define a function"
   ]
  },
  {
   "cell_type": "code",
   "execution_count": 8,
   "metadata": {},
   "outputs": [
    {
     "name": "stdout",
     "output_type": "stream",
     "text": [
      "My message is\n",
      "Hi Guys, Welcome to the Python Tutorial\n",
      "I hope you like it\n",
      "see you\n"
     ]
    }
   ],
   "source": [
    "#we first define functions before calling them (before after means from top to down)\n",
    "print(\"My message is\")\n",
    "greet_students()\n",
    "print(\"see you\")"
   ]
  },
  {
   "cell_type": "markdown",
   "metadata": {},
   "source": [
    "Parameters: How to pass information(data) to our functions?"
   ]
  },
  {
   "cell_type": "code",
   "execution_count": 9,
   "metadata": {},
   "outputs": [
    {
     "ename": "TypeError",
     "evalue": "greet_students() missing 1 required positional argument: 'name'",
     "output_type": "error",
     "traceback": [
      "\u001b[1;31m---------------------------------------------------------------------------\u001b[0m",
      "\u001b[1;31mTypeError\u001b[0m                                 Traceback (most recent call last)",
      "\u001b[1;32m<ipython-input-9-62dc80eaace8>\u001b[0m in \u001b[0;36m<module>\u001b[1;34m\u001b[0m\n\u001b[0;32m      5\u001b[0m \u001b[1;33m\u001b[0m\u001b[0m\n\u001b[0;32m      6\u001b[0m \u001b[1;33m\u001b[0m\u001b[0m\n\u001b[1;32m----> 7\u001b[1;33m \u001b[0mgreet_students\u001b[0m\u001b[1;33m(\u001b[0m\u001b[1;33m)\u001b[0m\u001b[1;33m\u001b[0m\u001b[1;33m\u001b[0m\u001b[0m\n\u001b[0m",
      "\u001b[1;31mTypeError\u001b[0m: greet_students() missing 1 required positional argument: 'name'"
     ]
    }
   ],
   "source": [
    "#Parameters are like place holders or buckets\n",
    "def greet_students(name):    \n",
    "    print(f\"Hi {name}, Welcome to the Python Tutorial\") # we use formated string\n",
    "    print(\"I hope you like it\")\n",
    "    \n",
    "    \n",
    "greet_students()   # function needs an argument (input data)"
   ]
  },
  {
   "cell_type": "code",
   "execution_count": 11,
   "metadata": {},
   "outputs": [
    {
     "name": "stdout",
     "output_type": "stream",
     "text": [
      "Hi Adam, Welcome to the Python Tutorial\n",
      "I hope you like it\n",
      "Hi Noah, Welcome to the Python Tutorial\n",
      "I hope you like it\n"
     ]
    }
   ],
   "source": [
    "greet_students(\"Adam\")\n",
    "greet_students(\"Noah\")"
   ]
  },
  {
   "cell_type": "code",
   "execution_count": null,
   "metadata": {},
   "outputs": [],
   "source": [
    "#side note: Parameters are place holders like name parameter, arguments are specisific input data like \"Adam\" (actual data)"
   ]
  },
  {
   "cell_type": "code",
   "execution_count": 13,
   "metadata": {},
   "outputs": [],
   "source": [
    "#We can use multiple parameters, the order is important, we also call them as positional arguments\n",
    "def greet_students(first_name, last_name):    \n",
    "    print(f\"Hi {first_name} {last_name}, Welcome to the Python Tutorial\") # we use formated string\n",
    "    print(\"I hope you like it\")"
   ]
  },
  {
   "cell_type": "code",
   "execution_count": 14,
   "metadata": {},
   "outputs": [
    {
     "name": "stdout",
     "output_type": "stream",
     "text": [
      "Hi Adam Smith, Welcome to the Python Tutorial\n",
      "I hope you like it\n"
     ]
    }
   ],
   "source": [
    "greet_students(\"Adam\", \"Smith\")"
   ]
  },
  {
   "cell_type": "code",
   "execution_count": 3,
   "metadata": {},
   "outputs": [],
   "source": [
    "#functions can use number data to do some operations as well, with return statement\n",
    "def my_function(number1, number2, number3):\n",
    "    result=(number1*number2)/number3\n",
    "    return result"
   ]
  },
  {
   "cell_type": "code",
   "execution_count": 2,
   "metadata": {},
   "outputs": [
    {
     "data": {
      "text/plain": [
       "3.3333333333333335"
      ]
     },
     "execution_count": 2,
     "metadata": {},
     "output_type": "execute_result"
    }
   ],
   "source": [
    "my_function(2,5,3)"
   ]
  },
  {
   "cell_type": "markdown",
   "metadata": {},
   "source": [
    "KeyWord Arguments"
   ]
  },
  {
   "cell_type": "code",
   "execution_count": 16,
   "metadata": {},
   "outputs": [
    {
     "name": "stdout",
     "output_type": "stream",
     "text": [
      "Hi Adam Smith, Welcome to the Python Tutorial\n",
      "I hope you like it\n"
     ]
    }
   ],
   "source": [
    "#If you do not want to follow the order, we can use keyword arguments\n",
    "#keyword arguments useful when you define numeric function with many inputs\n",
    "greet_students(last_name=\"Smith\", first_name=\"Adam\")"
   ]
  },
  {
   "cell_type": "code",
   "execution_count": 17,
   "metadata": {},
   "outputs": [
    {
     "name": "stdout",
     "output_type": "stream",
     "text": [
      "Hi Smith Adam, Welcome to the Python Tutorial\n",
      "I hope you like it\n"
     ]
    }
   ],
   "source": [
    "#look at the difference, order matters if you do not use keywords \n",
    "greet_students(\"Smith\", \"Adam\")"
   ]
  },
  {
   "cell_type": "code",
   "execution_count": 18,
   "metadata": {},
   "outputs": [],
   "source": [
    "def total_cost(order_size, unit_cost, discount_rate):\n",
    "    result=order_size*unit_cost*discount_rate\n",
    "    return result"
   ]
  },
  {
   "cell_type": "code",
   "execution_count": 19,
   "metadata": {},
   "outputs": [
    {
     "name": "stdout",
     "output_type": "stream",
     "text": [
      "100.0\n"
     ]
    }
   ],
   "source": [
    "print(total_cost(100,10,0.1))"
   ]
  },
  {
   "cell_type": "code",
   "execution_count": 20,
   "metadata": {},
   "outputs": [
    {
     "name": "stdout",
     "output_type": "stream",
     "text": [
      "100.0\n"
     ]
    }
   ],
   "source": [
    "#keyword arguments\n",
    "print(total_cost(discount_rate=0.1,order_size=100,unit_cost=10))"
   ]
  },
  {
   "cell_type": "code",
   "execution_count": 21,
   "metadata": {},
   "outputs": [
    {
     "ename": "SyntaxError",
     "evalue": "positional argument follows keyword argument (<ipython-input-21-b5a8dddd12c8>, line 2)",
     "output_type": "error",
     "traceback": [
      "\u001b[1;36m  File \u001b[1;32m\"<ipython-input-21-b5a8dddd12c8>\"\u001b[1;36m, line \u001b[1;32m2\u001b[0m\n\u001b[1;33m    total_cost(discount_rate=0.1,100,10)\u001b[0m\n\u001b[1;37m                                ^\u001b[0m\n\u001b[1;31mSyntaxError\u001b[0m\u001b[1;31m:\u001b[0m positional argument follows keyword argument\n"
     ]
    }
   ],
   "source": [
    "#You can mix them, you can use positional and keyword arguments together but positional ones should come first\n",
    "total_cost(discount_rate=0.1,100,10)"
   ]
  },
  {
   "cell_type": "code",
   "execution_count": 22,
   "metadata": {},
   "outputs": [
    {
     "data": {
      "text/plain": [
       "100.0"
      ]
     },
     "execution_count": 22,
     "metadata": {},
     "output_type": "execute_result"
    }
   ],
   "source": [
    "total_cost(100,10,discount_rate=0.1)"
   ]
  },
  {
   "cell_type": "code",
   "execution_count": 25,
   "metadata": {},
   "outputs": [],
   "source": [
    "#Return statement and None\n",
    "def square(number):\n",
    "    print(number*number)"
   ]
  },
  {
   "cell_type": "code",
   "execution_count": 28,
   "metadata": {},
   "outputs": [
    {
     "name": "stdout",
     "output_type": "stream",
     "text": [
      "25\n",
      "None\n"
     ]
    }
   ],
   "source": [
    "print(square(5))"
   ]
  },
  {
   "cell_type": "code",
   "execution_count": null,
   "metadata": {},
   "outputs": [],
   "source": [
    "#If you do not use return all functions return value of None, like null in C/C++, Java etc\n",
    "# None is an object that represents the absence of a value"
   ]
  },
  {
   "cell_type": "code",
   "execution_count": 29,
   "metadata": {},
   "outputs": [],
   "source": [
    "def square(number):\n",
    "    return number*number"
   ]
  },
  {
   "cell_type": "code",
   "execution_count": 30,
   "metadata": {},
   "outputs": [
    {
     "name": "stdout",
     "output_type": "stream",
     "text": [
      "25\n"
     ]
    }
   ],
   "source": [
    "print(square(5))"
   ]
  },
  {
   "cell_type": "markdown",
   "metadata": {},
   "source": [
    "Re-usable Functions"
   ]
  },
  {
   "cell_type": "code",
   "execution_count": null,
   "metadata": {},
   "outputs": [],
   "source": [
    "#Recall the emoji converter, let make it a reusable function]\n",
    "# let us make it an emoji fun\n",
    "#emojis pop up with Windows and . key together\n",
    "say_smthg=input (\"say something: \")\n",
    "\n",
    "my_words_list=say_smthg.split(\" \")  #split my sentence with spaces, like delimiter\n",
    "\n",
    "\n",
    "emojis={    \n",
    "    \":)\":\"😊😊\",  \n",
    "    \":(\":\"😥😥\"\n",
    "}\n",
    "\n",
    "output= \" \"\n",
    "\n",
    "for word in my_words_list:\n",
    "    output += emojis.get(word,word) + \" \"  # if my word does not exist in the dict show the word itself (the second is the default)\n",
    "print (output)"
   ]
  },
  {
   "cell_type": "code",
   "execution_count": 37,
   "metadata": {},
   "outputs": [
    {
     "name": "stdout",
     "output_type": "stream",
     "text": [
      "say something: hi there :)\n",
      " hi there 😊😊 \n"
     ]
    }
   ],
   "source": [
    "def emoji_converter(input_string):\n",
    "    my_words_list=input_string.split(\" \")  #split my sentence with spaces, like delimiter as a list\n",
    "    \n",
    "    emojis={    \n",
    "        \":)\":\"😊😊\",  \n",
    "        \":(\":\"😥😥\"\n",
    "    }\n",
    "    \n",
    "    output= \" \"\n",
    "    for word in my_words_list:\n",
    "        output += emojis.get(word,word) + \" \"  # if my word does not exist in the dict show the word itself (the second is the default)\n",
    "    return output\n",
    "\n",
    "\n",
    "say_smthg=input (\"say something: \")\n",
    "print(emoji_converter(say_smthg))\n"
   ]
  },
  {
   "cell_type": "markdown",
   "metadata": {},
   "source": [
    "# Error Handling (Exceptions)"
   ]
  },
  {
   "cell_type": "code",
   "execution_count": 43,
   "metadata": {},
   "outputs": [
    {
     "name": "stdout",
     "output_type": "stream",
     "text": [
      "how old are you: old\n",
      "Invalid number\n"
     ]
    }
   ],
   "source": [
    "#we use try and except blocks \n",
    "try:\n",
    "    age=int(input(\"how old are you: \"))\n",
    "    print(f\"you are {age} years old\")\n",
    "except ValueError:\n",
    "    print(\"Invalid number\")"
   ]
  },
  {
   "cell_type": "code",
   "execution_count": 4,
   "metadata": {},
   "outputs": [
    {
     "name": "stdout",
     "output_type": "stream",
     "text": [
      "what is your weight(kg): 72\n",
      "what is your height(m): 0\n",
      "height cannot be zero\n"
     ]
    }
   ],
   "source": [
    "#BMI Formula: weight (kg) / [height (m)]2\n",
    "try:\n",
    "    weight=float(input(\"what is your weight(kg): \"))   #note that this time we use float variable not int. Why?\n",
    "    height=float(input(\"what is your height(m): \"))\n",
    "    bmi=weight/(height*height)\n",
    "    print(f\"your BMI index: {bmi}\")\n",
    "except ValueError:\n",
    "    print(\"Invalid number\")\n",
    "except ZeroDivisionError:\n",
    "    print(\"height cannot be zero\")\n",
    "    "
   ]
  },
  {
   "cell_type": "markdown",
   "metadata": {},
   "source": [
    "# Classes (Object Oriented Programming-OOP) (Extremely important notion)"
   ]
  },
  {
   "cell_type": "markdown",
   "metadata": {},
   "source": [
    "We use classes (or we call them blueprints, templates, organized structures) to define new types\n",
    "\n",
    "Type means specific structures like \n",
    "\n",
    "Numbers, strings, booleans, lists, tuples, dictionaries are all types but those are simple types\n",
    "\n",
    "We use classes to define complex types (real concepts) like a customer class with lots of attributes and methods to do spefic tasks\n",
    "\n",
    "Classes are common in all coding languages like C++, C#, Java, VBA and it is very important to know them\n"
   ]
  },
  {
   "cell_type": "code",
   "execution_count": 19,
   "metadata": {},
   "outputs": [],
   "source": [
    "#Pascal (dates back to Pascal coding language practices) naming convention: \n",
    "#We use lower case letters and underscore for variable and function names like emoji_converter\n",
    "#we do not use underscore for Classes and make the first letter of each word Capital in a class name\n",
    "#For example Customer, CustomerEmails, CarDealaer, etc\n",
    "class Point:\n",
    "    def move(self):\n",
    "        print(\"move\")\n",
    "    \n",
    "    \n",
    "    def draw(self):\n",
    "        print(\"draw\")\n",
    "        \n",
    "        \n",
    "#We can define objects by using a defined class. Object is an instance of a class.\n",
    "#point1 is an object of Point class\n",
    "point1=Point()"
   ]
  },
  {
   "cell_type": "code",
   "execution_count": 16,
   "metadata": {},
   "outputs": [
    {
     "name": "stdout",
     "output_type": "stream",
     "text": [
      "move\n"
     ]
    }
   ],
   "source": [
    "point1.move()"
   ]
  },
  {
   "cell_type": "code",
   "execution_count": 20,
   "metadata": {},
   "outputs": [
    {
     "name": "stdout",
     "output_type": "stream",
     "text": [
      "draw\n"
     ]
    }
   ],
   "source": [
    "point1.draw()"
   ]
  },
  {
   "cell_type": "code",
   "execution_count": 21,
   "metadata": {},
   "outputs": [
    {
     "name": "stdout",
     "output_type": "stream",
     "text": [
      "5 10\n"
     ]
    }
   ],
   "source": [
    "#.move() and .draw() are the methods (like a function but we call them just methods) of Point class\n",
    "#Methods are the functions defined inside a class\n",
    "#We define attributes (like variables) for a class\n",
    "#we define x and y attributes\n",
    "point1.x=5\n",
    "point1.y=10\n",
    "print(point1.x, point1.y)"
   ]
  },
  {
   "cell_type": "code",
   "execution_count": 22,
   "metadata": {},
   "outputs": [],
   "source": [
    "#Define another object of a Point class\n",
    "point2=Point()"
   ]
  },
  {
   "cell_type": "code",
   "execution_count": 23,
   "metadata": {},
   "outputs": [
    {
     "ename": "AttributeError",
     "evalue": "'Point' object has no attribute 'x'",
     "output_type": "error",
     "traceback": [
      "\u001b[1;31m---------------------------------------------------------------------------\u001b[0m",
      "\u001b[1;31mAttributeError\u001b[0m                            Traceback (most recent call last)",
      "\u001b[1;32m<ipython-input-23-cd383d4a28c6>\u001b[0m in \u001b[0;36m<module>\u001b[1;34m\u001b[0m\n\u001b[1;32m----> 1\u001b[1;33m \u001b[0mprint\u001b[0m\u001b[1;33m(\u001b[0m\u001b[0mpoint2\u001b[0m\u001b[1;33m.\u001b[0m\u001b[0mx\u001b[0m\u001b[1;33m)\u001b[0m\u001b[1;33m\u001b[0m\u001b[1;33m\u001b[0m\u001b[0m\n\u001b[0m",
      "\u001b[1;31mAttributeError\u001b[0m: 'Point' object has no attribute 'x'"
     ]
    }
   ],
   "source": [
    "print(point2.x)"
   ]
  },
  {
   "cell_type": "code",
   "execution_count": 25,
   "metadata": {},
   "outputs": [
    {
     "name": "stdout",
     "output_type": "stream",
     "text": [
      "100\n"
     ]
    }
   ],
   "source": [
    "#x attribute defined only for point1 object. Each object is a different instance of a class\n",
    "#Note that we define the attributes of an object anywhere in our code\n",
    "point2.x=100\n",
    "print(point2.x)"
   ]
  },
  {
   "cell_type": "markdown",
   "metadata": {},
   "source": [
    "Constructors"
   ]
  },
  {
   "cell_type": "code",
   "execution_count": 26,
   "metadata": {},
   "outputs": [
    {
     "ename": "AttributeError",
     "evalue": "'Point' object has no attribute 'x'",
     "output_type": "error",
     "traceback": [
      "\u001b[1;31m---------------------------------------------------------------------------\u001b[0m",
      "\u001b[1;31mAttributeError\u001b[0m                            Traceback (most recent call last)",
      "\u001b[1;32m<ipython-input-26-bf54405ed227>\u001b[0m in \u001b[0;36m<module>\u001b[1;34m\u001b[0m\n\u001b[0;32m      1\u001b[0m \u001b[0mpoint\u001b[0m\u001b[1;33m=\u001b[0m\u001b[0mPoint\u001b[0m\u001b[1;33m(\u001b[0m\u001b[1;33m)\u001b[0m\u001b[1;33m\u001b[0m\u001b[1;33m\u001b[0m\u001b[0m\n\u001b[1;32m----> 2\u001b[1;33m \u001b[0mprint\u001b[0m\u001b[1;33m(\u001b[0m\u001b[0mpoint\u001b[0m\u001b[1;33m.\u001b[0m\u001b[0mx\u001b[0m\u001b[1;33m)\u001b[0m\u001b[1;33m\u001b[0m\u001b[1;33m\u001b[0m\u001b[0m\n\u001b[0m",
      "\u001b[1;31mAttributeError\u001b[0m: 'Point' object has no attribute 'x'"
     ]
    }
   ],
   "source": [
    "point=Point()\n",
    "print(point.x)"
   ]
  },
  {
   "cell_type": "code",
   "execution_count": 27,
   "metadata": {},
   "outputs": [],
   "source": [
    "#It does not make sense for a point class not having a location attribute like x or y\n",
    "#So, we define constructors. Constructor is special method that gets called when we create an object of a class\n",
    "#We pass in attributes as a parameter to our class\n",
    "\n",
    "\n",
    "class Point:\n",
    "    \n",
    "    #define a constructor, __init__ is a special method called constructor.init comes from initilization\n",
    "    def __init__(self,x_loc,y_loc):   #x_loc, y_loc are two parameters to pass in x, y attributes of an object\n",
    "        self.x=x_loc\n",
    "        self.y=y_loc\n",
    "        \n",
    "    def move(self):\n",
    "        print(\"move\")\n",
    "    \n",
    "    \n",
    "    def draw(self):\n",
    "        print(\"draw\")"
   ]
  },
  {
   "cell_type": "code",
   "execution_count": 28,
   "metadata": {},
   "outputs": [
    {
     "ename": "TypeError",
     "evalue": "__init__() missing 2 required positional arguments: 'x_loc' and 'y_loc'",
     "output_type": "error",
     "traceback": [
      "\u001b[1;31m---------------------------------------------------------------------------\u001b[0m",
      "\u001b[1;31mTypeError\u001b[0m                                 Traceback (most recent call last)",
      "\u001b[1;32m<ipython-input-28-d61465f569ec>\u001b[0m in \u001b[0;36m<module>\u001b[1;34m\u001b[0m\n\u001b[1;32m----> 1\u001b[1;33m \u001b[0mpoint\u001b[0m\u001b[1;33m=\u001b[0m\u001b[0mPoint\u001b[0m\u001b[1;33m(\u001b[0m\u001b[1;33m)\u001b[0m\u001b[1;33m\u001b[0m\u001b[1;33m\u001b[0m\u001b[0m\n\u001b[0m",
      "\u001b[1;31mTypeError\u001b[0m: __init__() missing 2 required positional arguments: 'x_loc' and 'y_loc'"
     ]
    }
   ],
   "source": [
    "point=Point()"
   ]
  },
  {
   "cell_type": "code",
   "execution_count": 29,
   "metadata": {},
   "outputs": [],
   "source": [
    "point=Point(10,20)"
   ]
  },
  {
   "cell_type": "code",
   "execution_count": 30,
   "metadata": {},
   "outputs": [
    {
     "name": "stdout",
     "output_type": "stream",
     "text": [
      "10 20\n"
     ]
    }
   ],
   "source": [
    "print(point.x,point.y)"
   ]
  },
  {
   "cell_type": "code",
   "execution_count": 39,
   "metadata": {},
   "outputs": [],
   "source": [
    "#Exercise:Define a person class with name attribute and talk() method\n",
    "class Person:\n",
    "    def __init__(self,name):\n",
    "        self.name=name\n",
    "    \n",
    "    \n",
    "    def talk(self):\n",
    "        print(\"I am talking\")"
   ]
  },
  {
   "cell_type": "code",
   "execution_count": 41,
   "metadata": {},
   "outputs": [],
   "source": [
    "person1=Person(\"Musa\")"
   ]
  },
  {
   "cell_type": "code",
   "execution_count": 42,
   "metadata": {},
   "outputs": [
    {
     "name": "stdout",
     "output_type": "stream",
     "text": [
      "Musa\n"
     ]
    }
   ],
   "source": [
    "print(person1.name)"
   ]
  },
  {
   "cell_type": "code",
   "execution_count": 45,
   "metadata": {},
   "outputs": [
    {
     "name": "stdout",
     "output_type": "stream",
     "text": [
      "I am talking\n"
     ]
    }
   ],
   "source": [
    "person1.talk()"
   ]
  },
  {
   "cell_type": "code",
   "execution_count": 46,
   "metadata": {},
   "outputs": [],
   "source": [
    "#self is the first parameter of each method referring to object itself\n",
    "#revise talk method\n",
    "class Person:\n",
    "    def __init__(self,name):\n",
    "        self.name=name\n",
    "    \n",
    "    \n",
    "    def talk(self):\n",
    "        print(f\"Hi! my name is {self.name}\")"
   ]
  },
  {
   "cell_type": "code",
   "execution_count": 47,
   "metadata": {},
   "outputs": [],
   "source": [
    "person2=Person(\"Adam\")"
   ]
  },
  {
   "cell_type": "code",
   "execution_count": 48,
   "metadata": {},
   "outputs": [
    {
     "name": "stdout",
     "output_type": "stream",
     "text": [
      "Hi! my name is Adam\n"
     ]
    }
   ],
   "source": [
    "person2.talk()"
   ]
  },
  {
   "cell_type": "code",
   "execution_count": 49,
   "metadata": {},
   "outputs": [],
   "source": [
    "Noah=Person(\"Noah\")"
   ]
  },
  {
   "cell_type": "code",
   "execution_count": 50,
   "metadata": {},
   "outputs": [
    {
     "name": "stdout",
     "output_type": "stream",
     "text": [
      "Hi! my name is Noah\n"
     ]
    }
   ],
   "source": [
    "Noah.talk()"
   ]
  },
  {
   "cell_type": "markdown",
   "metadata": {},
   "source": [
    "Inheritance: It is a tecnique that we can use some methods of other classes, thereby we do not need to duplicate our codes "
   ]
  },
  {
   "cell_type": "code",
   "execution_count": 87,
   "metadata": {},
   "outputs": [],
   "source": [
    "class Dog:\n",
    "    def walk(self):\n",
    "        print(\"walk\")"
   ]
  },
  {
   "cell_type": "code",
   "execution_count": 88,
   "metadata": {},
   "outputs": [],
   "source": [
    "class Cat:\n",
    "    def walk(self):  #we define the same method for another class! This is a duplication! Not good!\n",
    "        print(\"walk\")"
   ]
  },
  {
   "cell_type": "code",
   "execution_count": 89,
   "metadata": {},
   "outputs": [],
   "source": [
    "#We like the idea of dry code meaning do not duplicate the code. \n",
    "#For instance, if you want to revise the method, you need to revise it everywhere in the code! This is not good!\n",
    "#Let`s define another Class and move walk method to there\n",
    "class Mammal:\n",
    "    def walk(self):\n",
    "        print(\"walk\")\n",
    "\n",
    "\n",
    "class Dog(Mammal):\n",
    "    pass           #python does not like empty classes, we use pass \n",
    "\n",
    "\n",
    "class Cat(Mammal):\n",
    "    pass"
   ]
  },
  {
   "cell_type": "code",
   "execution_count": 90,
   "metadata": {},
   "outputs": [],
   "source": [
    "Dog1=Dog()\n",
    "Cat1=Cat()"
   ]
  },
  {
   "cell_type": "code",
   "execution_count": 91,
   "metadata": {},
   "outputs": [
    {
     "name": "stdout",
     "output_type": "stream",
     "text": [
      "walk\n",
      "walk\n"
     ]
    }
   ],
   "source": [
    "#Dog1 and Cat 1 objects use the method of their parent class Mammal, whihc is inheritance\n",
    "Dog1.walk()\n",
    "Cat1.walk()"
   ]
  },
  {
   "cell_type": "code",
   "execution_count": 92,
   "metadata": {},
   "outputs": [],
   "source": [
    "#we can define specific methods for child classes\n",
    "class Dog(Mammal):\n",
    "    def bark(self):\n",
    "        print(\"bark\")\n",
    "\n",
    "\n",
    "class Cat(Mammal):\n",
    "    def meow(self):\n",
    "        print(\"meow\")"
   ]
  },
  {
   "cell_type": "code",
   "execution_count": 93,
   "metadata": {},
   "outputs": [],
   "source": [
    "Dog2=Dog()\n",
    "Cat2=Cat()"
   ]
  },
  {
   "cell_type": "code",
   "execution_count": 95,
   "metadata": {},
   "outputs": [
    {
     "name": "stdout",
     "output_type": "stream",
     "text": [
      "walk\n",
      "bark\n"
     ]
    }
   ],
   "source": [
    "Dog2.walk()\n",
    "Dog2.bark()"
   ]
  },
  {
   "cell_type": "code",
   "execution_count": 96,
   "metadata": {},
   "outputs": [
    {
     "name": "stdout",
     "output_type": "stream",
     "text": [
      "walk\n",
      "meow\n"
     ]
    }
   ],
   "source": [
    "Cat2.walk()\n",
    "Cat2.meow()"
   ]
  },
  {
   "cell_type": "code",
   "execution_count": 106,
   "metadata": {},
   "outputs": [],
   "source": [
    "#let`s define more complex objects\n",
    "class Baby:\n",
    "    \"\"\" Baby class with two positional parameters, first parameter is name, second one is months as an age\"\"\"\n",
    "    \n",
    "    #class attribute\n",
    "    species=\"Mammal\"\n",
    "    \n",
    "    #constructor (initializer), instance attributes\n",
    "    def __init__(self,name,months):\n",
    "        self.name=name\n",
    "        self.months=months\n",
    "        self.is_sleeping=False  # we can change this attribute by a method\n",
    "    \n",
    "    \n",
    "    def describe_baby(self):\n",
    "        return f\"Baby {self.name} is {self.months} months\"\n",
    "    \n",
    "    \n",
    "    def sleep_baby(self):\n",
    "        self.is_sleeping=True\n",
    "        return f\"Baby {self.name} is sleeping\"\n",
    "    \n",
    "    \n",
    "    def wake_baby(self):\n",
    "        self.is_sleeping=False\n",
    "        return f\"Baby {self.name} is awake\""
   ]
  },
  {
   "cell_type": "code",
   "execution_count": 107,
   "metadata": {},
   "outputs": [],
   "source": [
    "Baby?"
   ]
  },
  {
   "cell_type": "code",
   "execution_count": null,
   "metadata": {},
   "outputs": [],
   "source": [
    "Init signature: Baby(name, months)\n",
    "Docstring:      Baby class with two positional parameters, first parameter is name, second one is months as an age\n",
    "Type:           type\n",
    "Subclasses:       "
   ]
  },
  {
   "cell_type": "code",
   "execution_count": 108,
   "metadata": {},
   "outputs": [],
   "source": [
    "Burak=Baby(\"Burak\", 24)\n",
    "Kerem=Baby(\"Kerem\",2)"
   ]
  },
  {
   "cell_type": "code",
   "execution_count": 114,
   "metadata": {},
   "outputs": [
    {
     "name": "stdout",
     "output_type": "stream",
     "text": [
      "Baby Burak is 24 months\n",
      "Baby Burak is sleeping\n",
      "Baby Burak is awake\n"
     ]
    }
   ],
   "source": [
    "print(Burak.describe_baby())\n",
    "print(Burak.sleep_baby())\n",
    "print(Burak.wake_baby())"
   ]
  },
  {
   "cell_type": "code",
   "execution_count": 116,
   "metadata": {},
   "outputs": [
    {
     "name": "stdout",
     "output_type": "stream",
     "text": [
      "Baby Kerem is 2 months\n",
      "Baby Kerem is sleeping\n",
      "Baby Kerem is awake\n"
     ]
    }
   ],
   "source": [
    "print(Kerem.describe_baby())\n",
    "print(Kerem.sleep_baby())\n",
    "print(Kerem.wake_baby())"
   ]
  },
  {
   "cell_type": "code",
   "execution_count": 119,
   "metadata": {},
   "outputs": [
    {
     "name": "stdout",
     "output_type": "stream",
     "text": [
      "oldest baby is 24 months old\n"
     ]
    }
   ],
   "source": [
    "#determine the oldest baby with a function\n",
    "def oldest_baby(*args):\n",
    "    return max(args)\n",
    "\n",
    "\n",
    "print(f\"oldest baby is {oldest_baby(Burak.months,Kerem.months)} months old\")"
   ]
  },
  {
   "cell_type": "code",
   "execution_count": 121,
   "metadata": {},
   "outputs": [],
   "source": [
    "class PrematureBaby(Baby):\n",
    "    def __init__(self,name,months,months_come_early):\n",
    "        super().__init__(name,months)# to get the same attributes of the parent class, not use self inside\n",
    "        self.months_come_early=months_come_early\n",
    "    \n",
    "    \n",
    "    def eye_test_baby(self):\n",
    "        return f\"Premature Baby {self.name} has passed the eye test\"\n",
    "        "
   ]
  },
  {
   "cell_type": "code",
   "execution_count": 122,
   "metadata": {},
   "outputs": [],
   "source": [
    "john=PrematureBaby(\"John\",3,2)"
   ]
  },
  {
   "cell_type": "code",
   "execution_count": 125,
   "metadata": {},
   "outputs": [
    {
     "name": "stdout",
     "output_type": "stream",
     "text": [
      "Baby John is 3 months\n",
      "Baby John is sleeping\n",
      "Baby John is awake\n"
     ]
    }
   ],
   "source": [
    "#inherited methods from Parent Class\n",
    "print(john.describe_baby())\n",
    "print(john.sleep_baby())\n",
    "print(john.wake_baby())"
   ]
  },
  {
   "cell_type": "code",
   "execution_count": 127,
   "metadata": {},
   "outputs": [
    {
     "name": "stdout",
     "output_type": "stream",
     "text": [
      "Premature Baby John has passed the eye test\n"
     ]
    }
   ],
   "source": [
    "#method specific to child class\n",
    "print(john.eye_test_baby())"
   ]
  }
 ],
 "metadata": {
  "kernelspec": {
   "display_name": "Python 3",
   "language": "python",
   "name": "python3"
  },
  "language_info": {
   "codemirror_mode": {
    "name": "ipython",
    "version": 3
   },
   "file_extension": ".py",
   "mimetype": "text/x-python",
   "name": "python",
   "nbconvert_exporter": "python",
   "pygments_lexer": "ipython3",
   "version": "3.7.3"
  }
 },
 "nbformat": 4,
 "nbformat_minor": 2
}
