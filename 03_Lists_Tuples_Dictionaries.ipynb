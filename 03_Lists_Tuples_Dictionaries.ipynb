{
 "cells": [
  {
   "cell_type": "markdown",
   "metadata": {},
   "source": [
    "# Lists"
   ]
  },
  {
   "cell_type": "code",
   "execution_count": 1,
   "metadata": {},
   "outputs": [
    {
     "name": "stdout",
     "output_type": "stream",
     "text": [
      "['John', 'Musa', 'Burak', 'Adam', 'Smith']\n"
     ]
    }
   ],
   "source": [
    "names=['John', 'Musa', 'Burak','Adam','Smith']\n",
    "print(names)"
   ]
  },
  {
   "cell_type": "code",
   "execution_count": 2,
   "metadata": {},
   "outputs": [
    {
     "name": "stdout",
     "output_type": "stream",
     "text": [
      "John\n"
     ]
    }
   ],
   "source": [
    "print(names[0]) #this is exactly the same idea of pulling out characters in a string "
   ]
  },
  {
   "cell_type": "code",
   "execution_count": 3,
   "metadata": {},
   "outputs": [
    {
     "name": "stdout",
     "output_type": "stream",
     "text": [
      "Musa\n"
     ]
    }
   ],
   "source": [
    "print(names[1])"
   ]
  },
  {
   "cell_type": "code",
   "execution_count": 4,
   "metadata": {},
   "outputs": [
    {
     "name": "stdout",
     "output_type": "stream",
     "text": [
      "Smith\n"
     ]
    }
   ],
   "source": [
    "print(names[-1])"
   ]
  },
  {
   "cell_type": "code",
   "execution_count": 5,
   "metadata": {},
   "outputs": [
    {
     "name": "stdout",
     "output_type": "stream",
     "text": [
      "['Burak', 'Adam', 'Smith']\n"
     ]
    }
   ],
   "source": [
    "print(names[2:])"
   ]
  },
  {
   "cell_type": "code",
   "execution_count": 6,
   "metadata": {},
   "outputs": [
    {
     "name": "stdout",
     "output_type": "stream",
     "text": [
      "['John', 'Musa']\n"
     ]
    }
   ],
   "source": [
    "print(names[:2])"
   ]
  },
  {
   "cell_type": "code",
   "execution_count": 7,
   "metadata": {},
   "outputs": [
    {
     "name": "stdout",
     "output_type": "stream",
     "text": [
      "['Musa', 'Burak']\n"
     ]
    }
   ],
   "source": [
    "print(names[1:3]) #index 1,2,not 3"
   ]
  },
  {
   "cell_type": "code",
   "execution_count": 8,
   "metadata": {},
   "outputs": [
    {
     "name": "stdout",
     "output_type": "stream",
     "text": [
      "['John', 'Musa', 'Burak', 'Adam', 'Smith']\n"
     ]
    }
   ],
   "source": [
    "print(names[:])"
   ]
  },
  {
   "cell_type": "code",
   "execution_count": 9,
   "metadata": {},
   "outputs": [
    {
     "name": "stdout",
     "output_type": "stream",
     "text": [
      "['Musa', 'Burak', 'Adam']\n",
      "['John', 'Musa', 'Burak', 'Adam', 'Smith']\n"
     ]
    }
   ],
   "source": [
    "#slicing in a list does not change the existing list\n",
    "#it creates new lists\n",
    "\n",
    "print(names[1:4])\n",
    "print(names)"
   ]
  },
  {
   "cell_type": "code",
   "execution_count": 10,
   "metadata": {},
   "outputs": [
    {
     "name": "stdout",
     "output_type": "stream",
     "text": [
      "['Jon', 'Musa', 'Burak', 'Adam', 'Smith']\n"
     ]
    }
   ],
   "source": [
    "#modify a list entry\n",
    "names[0]='Jon'\n",
    "print(names)"
   ]
  },
  {
   "cell_type": "code",
   "execution_count": 11,
   "metadata": {},
   "outputs": [
    {
     "name": "stdout",
     "output_type": "stream",
     "text": [
      "Jon\n",
      "Musa\n",
      "Burak\n",
      "Adam\n",
      "Smith\n"
     ]
    }
   ],
   "source": [
    "for index in range(len(names)):\n",
    "    print(names[index])"
   ]
  },
  {
   "cell_type": "markdown",
   "metadata": {},
   "source": [
    "Challange: find the largest number in a list"
   ]
  },
  {
   "cell_type": "code",
   "execution_count": 12,
   "metadata": {},
   "outputs": [
    {
     "name": "stdout",
     "output_type": "stream",
     "text": [
      "largest number is 8\n"
     ]
    }
   ],
   "source": [
    "numbers=[3,5,1,2,8,5,2,1]\n",
    "largest=0\n",
    "\n",
    "for item in numbers:\n",
    "    if largest < item:\n",
    "        largest=item\n",
    "print(f'largest number is {largest}')\n",
    "    "
   ]
  },
  {
   "cell_type": "markdown",
   "metadata": {},
   "source": [
    "# 2D lists (important for data science and ML)"
   ]
  },
  {
   "cell_type": "code",
   "execution_count": null,
   "metadata": {},
   "outputs": [],
   "source": [
    "# construct 3x3 matrix\n",
    "#not code, illustration\n",
    "[\n",
    "    1,2,3\n",
    "    4,5,6\n",
    "    7,8,9\n",
    "]\n"
   ]
  },
  {
   "cell_type": "code",
   "execution_count": 14,
   "metadata": {},
   "outputs": [
    {
     "name": "stdout",
     "output_type": "stream",
     "text": [
      "[[1, 2, 3], [4, 5, 6], [7, 8, 9]]\n"
     ]
    }
   ],
   "source": [
    "matrix=[\n",
    "    [1,2,3],\n",
    "    [4,5,6],\n",
    "    [7,8,9]\n",
    "]\n",
    "\n",
    "print(matrix)"
   ]
  },
  {
   "cell_type": "code",
   "execution_count": 15,
   "metadata": {},
   "outputs": [
    {
     "name": "stdout",
     "output_type": "stream",
     "text": [
      "[1, 2, 3]\n"
     ]
    }
   ],
   "source": [
    "print(matrix[0])"
   ]
  },
  {
   "cell_type": "code",
   "execution_count": 16,
   "metadata": {},
   "outputs": [
    {
     "name": "stdout",
     "output_type": "stream",
     "text": [
      "1\n"
     ]
    }
   ],
   "source": [
    "print(matrix[0][0]) # first element of first list item"
   ]
  },
  {
   "cell_type": "code",
   "execution_count": 17,
   "metadata": {},
   "outputs": [
    {
     "name": "stdout",
     "output_type": "stream",
     "text": [
      "2\n"
     ]
    }
   ],
   "source": [
    "print(matrix[0][1])"
   ]
  },
  {
   "cell_type": "code",
   "execution_count": 18,
   "metadata": {},
   "outputs": [
    {
     "name": "stdout",
     "output_type": "stream",
     "text": [
      "[[1, 222, 3], [4, 5, 6], [7, 8, 9]]\n"
     ]
    }
   ],
   "source": [
    "matrix[0][1]=222\n",
    "print(matrix)    "
   ]
  },
  {
   "cell_type": "code",
   "execution_count": 19,
   "metadata": {},
   "outputs": [
    {
     "name": "stdout",
     "output_type": "stream",
     "text": [
      "1\n",
      "222\n",
      "3\n",
      "4\n",
      "5\n",
      "6\n",
      "7\n",
      "8\n",
      "9\n"
     ]
    }
   ],
   "source": [
    "for row in matrix:\n",
    "    for items in row:\n",
    "        print(items)"
   ]
  },
  {
   "cell_type": "markdown",
   "metadata": {},
   "source": [
    "# List Methods"
   ]
  },
  {
   "cell_type": "code",
   "execution_count": 20,
   "metadata": {},
   "outputs": [
    {
     "name": "stdout",
     "output_type": "stream",
     "text": [
      "[3, 1, 7, 4, 8, 5]\n"
     ]
    }
   ],
   "source": [
    "# A list is an object and there are specific functions for lists, so we call them list methods\n",
    "# to get access to methods of a list, we use dot(.) and tab\n",
    "#to see what method does, we use ?\n",
    "#to see method syntax, we use shift and tab inside ()\n",
    "\n",
    "numbers=[3,1,7,4,8]\n",
    "\n",
    "#numbers.append?\n",
    "#Signature: numbers.append(object, /)\n",
    "#Docstring: Append object to the end of the list.\n",
    "#Type:      builtin_function_or_method\n",
    "\n",
    "numbers.append(5)   #add as a last element\n",
    "print(numbers)"
   ]
  },
  {
   "cell_type": "code",
   "execution_count": 21,
   "metadata": {},
   "outputs": [
    {
     "name": "stdout",
     "output_type": "stream",
     "text": [
      "[10, 3, 1, 7, 4, 8, 5]\n"
     ]
    }
   ],
   "source": [
    "numbers.insert(0,10)  # insert to first position\n",
    "print(numbers)"
   ]
  },
  {
   "cell_type": "code",
   "execution_count": 22,
   "metadata": {},
   "outputs": [
    {
     "name": "stdout",
     "output_type": "stream",
     "text": [
      "[3, 1, 7, 4, 8, 5]\n"
     ]
    }
   ],
   "source": [
    "numbers.remove(10)\n",
    "print(numbers)"
   ]
  },
  {
   "cell_type": "code",
   "execution_count": 23,
   "metadata": {},
   "outputs": [
    {
     "name": "stdout",
     "output_type": "stream",
     "text": [
      "[]\n"
     ]
    }
   ],
   "source": [
    "numbers.clear()\n",
    "print(numbers)"
   ]
  },
  {
   "cell_type": "code",
   "execution_count": 24,
   "metadata": {},
   "outputs": [
    {
     "name": "stdout",
     "output_type": "stream",
     "text": [
      "[3, 1, 7, 4]\n"
     ]
    }
   ],
   "source": [
    "numbers=[3,1,7,4,8]\n",
    "\n",
    "numbers.pop() # removes the last item (default)\n",
    "print(numbers)"
   ]
  },
  {
   "cell_type": "code",
   "execution_count": 25,
   "metadata": {},
   "outputs": [
    {
     "name": "stdout",
     "output_type": "stream",
     "text": [
      "[1, 7, 4]\n"
     ]
    }
   ],
   "source": [
    "numbers.pop(0) #removes the first item\n",
    "print(numbers)"
   ]
  },
  {
   "cell_type": "code",
   "execution_count": 26,
   "metadata": {},
   "outputs": [
    {
     "name": "stdout",
     "output_type": "stream",
     "text": [
      "1\n"
     ]
    }
   ],
   "source": [
    "print(numbers.index(7))"
   ]
  },
  {
   "cell_type": "code",
   "execution_count": 27,
   "metadata": {},
   "outputs": [
    {
     "ename": "ValueError",
     "evalue": "100 is not in list",
     "output_type": "error",
     "traceback": [
      "\u001b[1;31m---------------------------------------------------------------------------\u001b[0m",
      "\u001b[1;31mValueError\u001b[0m                                Traceback (most recent call last)",
      "\u001b[1;32m<ipython-input-27-3dc046dd5bbf>\u001b[0m in \u001b[0;36m<module>\u001b[1;34m\u001b[0m\n\u001b[1;32m----> 1\u001b[1;33m \u001b[0mprint\u001b[0m\u001b[1;33m(\u001b[0m\u001b[0mnumbers\u001b[0m\u001b[1;33m.\u001b[0m\u001b[0mindex\u001b[0m\u001b[1;33m(\u001b[0m\u001b[1;36m100\u001b[0m\u001b[1;33m)\u001b[0m\u001b[1;33m)\u001b[0m\u001b[1;33m\u001b[0m\u001b[1;33m\u001b[0m\u001b[0m\n\u001b[0m",
      "\u001b[1;31mValueError\u001b[0m: 100 is not in list"
     ]
    }
   ],
   "source": [
    "print(numbers.index(100))"
   ]
  },
  {
   "cell_type": "code",
   "execution_count": 28,
   "metadata": {},
   "outputs": [
    {
     "name": "stdout",
     "output_type": "stream",
     "text": [
      "False\n"
     ]
    }
   ],
   "source": [
    "print(100 in numbers) # in method is safer b/c it does not give an error"
   ]
  },
  {
   "cell_type": "code",
   "execution_count": 29,
   "metadata": {},
   "outputs": [
    {
     "name": "stdout",
     "output_type": "stream",
     "text": [
      "2\n"
     ]
    }
   ],
   "source": [
    "my_list=[3,1,3,4,8,5,6]\n",
    "print(my_list.count(3))"
   ]
  },
  {
   "cell_type": "code",
   "execution_count": 30,
   "metadata": {},
   "outputs": [
    {
     "name": "stdout",
     "output_type": "stream",
     "text": [
      "None\n"
     ]
    }
   ],
   "source": [
    "print(my_list.sort())"
   ]
  },
  {
   "cell_type": "code",
   "execution_count": 31,
   "metadata": {},
   "outputs": [
    {
     "name": "stdout",
     "output_type": "stream",
     "text": [
      "[1, 3, 3, 4, 5, 6, 8]\n"
     ]
    }
   ],
   "source": [
    "#None means sort just sorted the list and nothing to display, so\n",
    "my_list.sort()\n",
    "print(my_list)"
   ]
  },
  {
   "cell_type": "code",
   "execution_count": 32,
   "metadata": {},
   "outputs": [
    {
     "name": "stdout",
     "output_type": "stream",
     "text": [
      "[8, 6, 5, 4, 3, 3, 1]\n"
     ]
    }
   ],
   "source": [
    "my_list.reverse()\n",
    "print(my_list)"
   ]
  },
  {
   "cell_type": "code",
   "execution_count": 33,
   "metadata": {},
   "outputs": [
    {
     "name": "stdout",
     "output_type": "stream",
     "text": [
      "[2, 4, 7, 0]\n",
      "[2, 4, 7]\n"
     ]
    }
   ],
   "source": [
    "numbers=[2,4,7]\n",
    "numbers1=numbers.copy()\n",
    "\n",
    "numbers.append(0)\n",
    "print(numbers)\n",
    "print(numbers1)"
   ]
  },
  {
   "cell_type": "code",
   "execution_count": 34,
   "metadata": {},
   "outputs": [
    {
     "name": "stdout",
     "output_type": "stream",
     "text": [
      "[1, 2, 3, 4, 5, 6, 7]\n"
     ]
    }
   ],
   "source": [
    "list1=[1,2,3]\n",
    "list2=[4,5,6,7]\n",
    "\n",
    "list1.extend(list2)\n",
    "print(list1)"
   ]
  },
  {
   "cell_type": "markdown",
   "metadata": {},
   "source": [
    "Write a program to remove duplicates in a list"
   ]
  },
  {
   "cell_type": "code",
   "execution_count": 35,
   "metadata": {},
   "outputs": [
    {
     "name": "stdout",
     "output_type": "stream",
     "text": [
      "[1, 2, 4, 5, 'c', 'a']\n"
     ]
    }
   ],
   "source": [
    "list=[1,1,1,2,4,5,'a','c','a']\n",
    "\n",
    "for item in list:\n",
    "    if(list.count(item)>1):\n",
    "        list.remove(item)\n",
    "print(list)"
   ]
  },
  {
   "cell_type": "code",
   "execution_count": 36,
   "metadata": {},
   "outputs": [
    {
     "name": "stdout",
     "output_type": "stream",
     "text": [
      "[1, 2, 4, 5, 'a', 'c']\n"
     ]
    }
   ],
   "source": [
    "#alternative way\n",
    "list=[1,1,1,2,4,5,'a','c','a']\n",
    "new_list=[]\n",
    "\n",
    "for item in list:\n",
    "    if item not in new_list:\n",
    "        new_list.append(item)\n",
    "print(new_list)\n"
   ]
  },
  {
   "cell_type": "code",
   "execution_count": 37,
   "metadata": {},
   "outputs": [],
   "source": [
    "# if you do not know the functions yet, skip this part (i.e. below four blocks)\n",
    "def remove_duplicates(list):  #this function updates the existing list\n",
    "\n",
    "    for item in list:\n",
    "        if(list.count(item)>1):\n",
    "            list.remove(item)\n",
    "    return list"
   ]
  },
  {
   "cell_type": "code",
   "execution_count": 38,
   "metadata": {},
   "outputs": [
    {
     "name": "stdout",
     "output_type": "stream",
     "text": [
      "[1, 2, 3, 4, 5]\n"
     ]
    }
   ],
   "source": [
    "numbers=[1,1,1,2,2,3,3,4,4,5,5]\n",
    "remove_duplicates(numbers)\n",
    "print(numbers)"
   ]
  },
  {
   "cell_type": "code",
   "execution_count": 39,
   "metadata": {},
   "outputs": [],
   "source": [
    "def remove_duplicates1(list): #this function cretaes a new list\n",
    "    new_list=[]\n",
    "\n",
    "    for item in list:\n",
    "        if item not in new_list:\n",
    "            new_list.append(item)\n",
    "    return new_list"
   ]
  },
  {
   "cell_type": "code",
   "execution_count": 40,
   "metadata": {},
   "outputs": [
    {
     "name": "stdout",
     "output_type": "stream",
     "text": [
      "[1, 1, 1, 2, 2, 3, 3, 4, 4, 5, 5]\n",
      "[1, 2, 3, 4, 5]\n"
     ]
    }
   ],
   "source": [
    "#note the difference btw two functions remove_duplicates and remove_duplicates1\n",
    "numbers=[1,1,1,2,2,3,3,4,4,5,5] \n",
    "remove_duplicates1(numbers)\n",
    "print(numbers)\n",
    "print(remove_duplicates1(numbers))  #function creates a new list"
   ]
  },
  {
   "cell_type": "markdown",
   "metadata": {},
   "source": [
    "# Tuples"
   ]
  },
  {
   "cell_type": "code",
   "execution_count": 45,
   "metadata": {},
   "outputs": [],
   "source": [
    "#Similar to lists but you cannot change (modify) their elements. Tuples are immutable or read-only lists.\n",
    "numbers_list=[2,4,5,7]  #list\n",
    "numbers_tuples=(2,4,5,7) # tuple"
   ]
  },
  {
   "cell_type": "code",
   "execution_count": 46,
   "metadata": {},
   "outputs": [],
   "source": [
    "numbers_tuples?"
   ]
  },
  {
   "cell_type": "code",
   "execution_count": null,
   "metadata": {},
   "outputs": [],
   "source": [
    "Type:        tuple\n",
    "String form: (2, 4, 5, 7)\n",
    "Length:      4\n",
    "Docstring:  \n",
    "Built-in immutable sequence.\n",
    "\n",
    "If no argument is given, the constructor returns an empty tuple.\n",
    "If iterable is specified the tuple is initialized from iterable's items.\n",
    "\n",
    "If the argument is a tuple, the return value is the same object."
   ]
  },
  {
   "cell_type": "code",
   "execution_count": 47,
   "metadata": {},
   "outputs": [
    {
     "name": "stdout",
     "output_type": "stream",
     "text": [
      "2\n",
      "4\n",
      "5\n",
      "7\n"
     ]
    }
   ],
   "source": [
    "#Unpacking tuples into seperate variables\n",
    "a,b,c,d=numbers_tuples\n",
    "unpacked=[a,b,c,d]\n",
    "for item in unpacked:\n",
    "    print (item)"
   ]
  },
  {
   "cell_type": "code",
   "execution_count": 48,
   "metadata": {},
   "outputs": [
    {
     "name": "stdout",
     "output_type": "stream",
     "text": [
      "2\n"
     ]
    }
   ],
   "source": [
    "print(numbers_tuples[0])"
   ]
  },
  {
   "cell_type": "code",
   "execution_count": 49,
   "metadata": {},
   "outputs": [
    {
     "ename": "TypeError",
     "evalue": "'tuple' object does not support item assignment",
     "output_type": "error",
     "traceback": [
      "\u001b[1;31m---------------------------------------------------------------------------\u001b[0m",
      "\u001b[1;31mTypeError\u001b[0m                                 Traceback (most recent call last)",
      "\u001b[1;32m<ipython-input-49-0114babfceda>\u001b[0m in \u001b[0;36m<module>\u001b[1;34m\u001b[0m\n\u001b[1;32m----> 1\u001b[1;33m \u001b[0mnumbers_tuples\u001b[0m\u001b[1;33m[\u001b[0m\u001b[1;36m0\u001b[0m\u001b[1;33m]\u001b[0m\u001b[1;33m=\u001b[0m\u001b[1;36m9\u001b[0m   \u001b[1;31m#tuple items cannot be modified\u001b[0m\u001b[1;33m\u001b[0m\u001b[1;33m\u001b[0m\u001b[0m\n\u001b[0m",
      "\u001b[1;31mTypeError\u001b[0m: 'tuple' object does not support item assignment"
     ]
    }
   ],
   "source": [
    "numbers_tuples[0]=9   #tuple items cannot be modified"
   ]
  },
  {
   "cell_type": "code",
   "execution_count": 50,
   "metadata": {},
   "outputs": [
    {
     "name": "stdout",
     "output_type": "stream",
     "text": [
      "1\n",
      "0\n"
     ]
    }
   ],
   "source": [
    "#tuples have index and count methods except magic methods https://rszalski.github.io/magicmethods/\n",
    "print(numbers_tuples.count(7))\n",
    "print(numbers_tuples.count(1))"
   ]
  },
  {
   "cell_type": "code",
   "execution_count": 51,
   "metadata": {},
   "outputs": [
    {
     "name": "stdout",
     "output_type": "stream",
     "text": [
      "0\n"
     ]
    }
   ],
   "source": [
    "print(numbers_tuples.index(2))"
   ]
  },
  {
   "cell_type": "code",
   "execution_count": null,
   "metadata": {},
   "outputs": [],
   "source": [
    "In practice we usually use lists. \n",
    "But if we wanna make sure that our list should not be changed in anywhere in the program we can use tuples\n"
   ]
  },
  {
   "cell_type": "markdown",
   "metadata": {},
   "source": [
    "# Unpacking"
   ]
  },
  {
   "cell_type": "code",
   "execution_count": 52,
   "metadata": {},
   "outputs": [
    {
     "name": "stdout",
     "output_type": "stream",
     "text": [
      "60\n"
     ]
    }
   ],
   "source": [
    "coordinates=(3,4,5)\n",
    "\n",
    "#Assume we find the multiplication of each element in coordinates. how can we do that?\n",
    "result=coordinates[0]*coordinates[1]*coordinates[2]\n",
    "print (result)"
   ]
  },
  {
   "cell_type": "code",
   "execution_count": 53,
   "metadata": {},
   "outputs": [
    {
     "name": "stdout",
     "output_type": "stream",
     "text": [
      "60\n"
     ]
    }
   ],
   "source": [
    "#better way?\n",
    "x=coordinates[0]\n",
    "y=coordinates[1]\n",
    "z=coordinates[2]\n",
    "print(x*y*z)"
   ]
  },
  {
   "cell_type": "code",
   "execution_count": 54,
   "metadata": {},
   "outputs": [
    {
     "name": "stdout",
     "output_type": "stream",
     "text": [
      "60\n"
     ]
    }
   ],
   "source": [
    "#the best way is unpacking\n",
    "x,y,z=coordinates   # that is it\n",
    "print(x*y*z)"
   ]
  },
  {
   "cell_type": "code",
   "execution_count": 55,
   "metadata": {},
   "outputs": [
    {
     "name": "stdout",
     "output_type": "stream",
     "text": [
      "apple 1 2 orange 3\n"
     ]
    }
   ],
   "source": [
    "# we can do unpacking for lists as well\n",
    "my_list=['apple',1,2,'orange',3]\n",
    "a,b,c,d,e=my_list\n",
    "print(a,b,c,d,e)"
   ]
  },
  {
   "cell_type": "markdown",
   "metadata": {},
   "source": [
    "# Dictionaries (Very practical and used a lot in practice)"
   ]
  },
  {
   "cell_type": "code",
   "execution_count": 56,
   "metadata": {},
   "outputs": [],
   "source": [
    "#if you have seen database management system you may remember the idea of key field that must be unique\n",
    "#or if in the excel you need a unique value for Lookups or Match functions.\n",
    "#The idea is the same, we should have unique keys like real world dictionaries. \n",
    "#We have data that comes with some key/value pairs\n",
    "#We use curly braces{} and : for dictionaries with commas\n",
    "\n",
    "customer={\n",
    "    \"name\":\"Musa\",\n",
    "    \"phone\": 4433,\n",
    "    \"email\":\"mc@email.com\",\n",
    "    \"is_a_faculty\":True\n",
    "}"
   ]
  },
  {
   "cell_type": "code",
   "execution_count": 57,
   "metadata": {},
   "outputs": [
    {
     "name": "stdout",
     "output_type": "stream",
     "text": [
      "Musa 4433 mc@email.com True\n"
     ]
    }
   ],
   "source": [
    "#We get access to customer values via unique keys\n",
    "print(customer[\"name\"], customer[\"phone\"], customer[\"email\"],customer[\"is_a_faculty\"])"
   ]
  },
  {
   "cell_type": "code",
   "execution_count": 58,
   "metadata": {},
   "outputs": [
    {
     "ename": "KeyError",
     "evalue": "'address'",
     "output_type": "error",
     "traceback": [
      "\u001b[1;31m---------------------------------------------------------------------------\u001b[0m",
      "\u001b[1;31mKeyError\u001b[0m                                  Traceback (most recent call last)",
      "\u001b[1;32m<ipython-input-58-51d842254f8b>\u001b[0m in \u001b[0;36m<module>\u001b[1;34m\u001b[0m\n\u001b[1;32m----> 1\u001b[1;33m \u001b[0mprint\u001b[0m\u001b[1;33m(\u001b[0m\u001b[0mcustomer\u001b[0m\u001b[1;33m[\u001b[0m\u001b[1;34m\"address\"\u001b[0m\u001b[1;33m]\u001b[0m\u001b[1;33m)\u001b[0m  \u001b[1;31m#this key does not exist\u001b[0m\u001b[1;33m\u001b[0m\u001b[1;33m\u001b[0m\u001b[0m\n\u001b[0m",
      "\u001b[1;31mKeyError\u001b[0m: 'address'"
     ]
    }
   ],
   "source": [
    "print(customer[\"address\"])  #this key does not exist "
   ]
  },
  {
   "cell_type": "code",
   "execution_count": 59,
   "metadata": {},
   "outputs": [
    {
     "ename": "KeyError",
     "evalue": "'Name'",
     "output_type": "error",
     "traceback": [
      "\u001b[1;31m---------------------------------------------------------------------------\u001b[0m",
      "\u001b[1;31mKeyError\u001b[0m                                  Traceback (most recent call last)",
      "\u001b[1;32m<ipython-input-59-c2df30f66e54>\u001b[0m in \u001b[0;36m<module>\u001b[1;34m\u001b[0m\n\u001b[1;32m----> 1\u001b[1;33m \u001b[0mprint\u001b[0m\u001b[1;33m(\u001b[0m\u001b[0mcustomer\u001b[0m\u001b[1;33m[\u001b[0m\u001b[1;34m\"Name\"\u001b[0m\u001b[1;33m]\u001b[0m\u001b[1;33m)\u001b[0m \u001b[1;31m#keys are case sensitive\u001b[0m\u001b[1;33m\u001b[0m\u001b[1;33m\u001b[0m\u001b[0m\n\u001b[0m",
      "\u001b[1;31mKeyError\u001b[0m: 'Name'"
     ]
    }
   ],
   "source": [
    "print(customer[\"Name\"]) #keys are case sensitive"
   ]
  },
  {
   "cell_type": "code",
   "execution_count": 60,
   "metadata": {},
   "outputs": [
    {
     "name": "stdout",
     "output_type": "stream",
     "text": [
      "Musa\n",
      "None\n"
     ]
    }
   ],
   "source": [
    "#get method for dictionaries, useful b/c does not throw an error for non-existing keys\n",
    "print(customer.get(\"name\"))\n",
    "print(customer.get(\"Name\"))  #does not throw an error, throws None object representing absence of a value"
   ]
  },
  {
   "cell_type": "code",
   "execution_count": 61,
   "metadata": {},
   "outputs": [
    {
     "name": "stdout",
     "output_type": "stream",
     "text": [
      "New Orleans\n"
     ]
    }
   ],
   "source": [
    "#get methods also allow us show a default value for the keys that does not exist in dictionaries\n",
    "print(customer.get(\"city\",\"New Orleans\"))  #new orleans is the default value"
   ]
  },
  {
   "cell_type": "code",
   "execution_count": 62,
   "metadata": {},
   "outputs": [
    {
     "ename": "KeyError",
     "evalue": "'city'",
     "output_type": "error",
     "traceback": [
      "\u001b[1;31m---------------------------------------------------------------------------\u001b[0m",
      "\u001b[1;31mKeyError\u001b[0m                                  Traceback (most recent call last)",
      "\u001b[1;32m<ipython-input-62-128fc1adf5bb>\u001b[0m in \u001b[0;36m<module>\u001b[1;34m\u001b[0m\n\u001b[1;32m----> 1\u001b[1;33m \u001b[0mprint\u001b[0m\u001b[1;33m(\u001b[0m\u001b[0mcustomer\u001b[0m\u001b[1;33m[\u001b[0m\u001b[1;34m\"city\"\u001b[0m\u001b[1;33m]\u001b[0m\u001b[1;33m)\u001b[0m  \u001b[1;31m#city key is not available\u001b[0m\u001b[1;33m\u001b[0m\u001b[1;33m\u001b[0m\u001b[0m\n\u001b[0m",
      "\u001b[1;31mKeyError\u001b[0m: 'city'"
     ]
    }
   ],
   "source": [
    "print(customer[\"city\"])  #city key is not available"
   ]
  },
  {
   "cell_type": "code",
   "execution_count": 63,
   "metadata": {},
   "outputs": [
    {
     "name": "stdout",
     "output_type": "stream",
     "text": [
      "Adam\n",
      "Adam\n"
     ]
    }
   ],
   "source": [
    "#update an entry\n",
    "customer['name']='Adam'\n",
    "\n",
    "print(customer['name'])\n",
    "print(customer.get('name'))"
   ]
  },
  {
   "cell_type": "code",
   "execution_count": 64,
   "metadata": {},
   "outputs": [
    {
     "name": "stdout",
     "output_type": "stream",
     "text": [
      "1234 rd LA\n"
     ]
    }
   ],
   "source": [
    "#insert a new key\n",
    "customer[\"address\"]=\"1234 rd LA\"\n",
    "print(customer[\"address\"])"
   ]
  },
  {
   "cell_type": "code",
   "execution_count": 75,
   "metadata": {},
   "outputs": [
    {
     "name": "stdout",
     "output_type": "stream",
     "text": [
      "Phone (only enter three digits): 310\n",
      "three one zero\n"
     ]
    }
   ],
   "source": [
    "#Write a program doing the following: \n",
    "#Program ask your phone (only enter three digits from 0,1,2,3), and we enter some numbers and numbers are written as a text by the program\n",
    "\n",
    "phone=input(\"Phone (only enter three digits): \") #note input object stores as strings\n",
    "\n",
    "a=int(phone[0])  #convert string to int s\n",
    "b=int(phone[1])\n",
    "c=int(phone[2])\n",
    "\n",
    "num_dict={\n",
    "    0:\"zero\",\n",
    "    1:\"one\",\n",
    "    2:\"two\",\n",
    "    3:\"three\"\n",
    "}\n",
    "\n",
    "print(num_dict[a],num_dict[b],num_dict[c])\n",
    "\n"
   ]
  },
  {
   "cell_type": "code",
   "execution_count": 80,
   "metadata": {},
   "outputs": [
    {
     "name": "stdout",
     "output_type": "stream",
     "text": [
      "Phone: 03247\n",
      " zero three two four N/A \n"
     ]
    }
   ],
   "source": [
    "#make it more efficient, we can enter as many numbers as we want\n",
    "phone=input(\"Phone: \")\n",
    "\n",
    "num_dict={\n",
    "    \"0\":\"zero\",\n",
    "    \"1\":\"one\",\n",
    "    \"2\":\"two\",\n",
    "    \"3\":\"three\",\n",
    "    \"4\":\"four\"\n",
    "}\n",
    "\n",
    "output=\" \"\n",
    "\n",
    "for string_number in phone:\n",
    "    output += num_dict.get(string_number,\"N/A\") + \" \"   #spaces btw numbers\n",
    "print(output)"
   ]
  },
  {
   "cell_type": "markdown",
   "metadata": {},
   "source": [
    "Split Method"
   ]
  },
  {
   "cell_type": "code",
   "execution_count": 82,
   "metadata": {},
   "outputs": [
    {
     "name": "stdout",
     "output_type": "stream",
     "text": [
      "say something: hi there what is up?\n",
      "['hi', 'there', 'what', 'is', 'up?']\n"
     ]
    }
   ],
   "source": [
    "say_smthg=input (\"say something: \")\n",
    "\n",
    "my_words_list=say_smthg.split(\" \")  #split my sentence with spaces, like delimiter\n",
    "print(my_words_list)"
   ]
  },
  {
   "cell_type": "code",
   "execution_count": 83,
   "metadata": {},
   "outputs": [
    {
     "name": "stdout",
     "output_type": "stream",
     "text": [
      "say something: hi there python is cool  :)\n",
      " hi there python is cool  😊😊 \n"
     ]
    }
   ],
   "source": [
    "# let us make it an emoji fun\n",
    "#emojis pop up with Windows and . key together\n",
    "say_smthg=input (\"say something: \")\n",
    "\n",
    "my_words_list=say_smthg.split(\" \")  #split my sentence with spaces, like delimiter\n",
    "\n",
    "\n",
    "emojis={    \n",
    "    \":)\":\"😊😊\",  \n",
    "    \":(\":\"😥😥\"\n",
    "}\n",
    "\n",
    "output= \" \"\n",
    "\n",
    "for word in my_words_list:\n",
    "    output += emojis.get(word,word) + \" \"  # if my word does not exist in the dict show the word itself (the second is the default)\n",
    "print (output)\n",
    "    "
   ]
  },
  {
   "cell_type": "code",
   "execution_count": null,
   "metadata": {},
   "outputs": [],
   "source": []
  }
 ],
 "metadata": {
  "kernelspec": {
   "display_name": "Python 3",
   "language": "python",
   "name": "python3"
  },
  "language_info": {
   "codemirror_mode": {
    "name": "ipython",
    "version": 3
   },
   "file_extension": ".py",
   "mimetype": "text/x-python",
   "name": "python",
   "nbconvert_exporter": "python",
   "pygments_lexer": "ipython3",
   "version": "3.7.3"
  }
 },
 "nbformat": 4,
 "nbformat_minor": 2
}
